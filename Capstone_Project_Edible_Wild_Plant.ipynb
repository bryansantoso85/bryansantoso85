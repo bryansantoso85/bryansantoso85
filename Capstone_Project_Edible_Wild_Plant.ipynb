{
  "nbformat": 4,
  "nbformat_minor": 0,
  "metadata": {
    "colab": {
      "name": "Capstone Project Edible Wild Plant.ipynb",
      "provenance": [],
      "collapsed_sections": [],
      "authorship_tag": "ABX9TyM7c1nWySF9hv9+UZ6LhdRa",
      "include_colab_link": true
    },
    "kernelspec": {
      "name": "python3",
      "display_name": "Python 3"
    },
    "language_info": {
      "name": "python"
    }
  },
  "cells": [
    {
      "cell_type": "markdown",
      "metadata": {
        "id": "view-in-github",
        "colab_type": "text"
      },
      "source": [
        "<a href=\"https://colab.research.google.com/github/bryansantoso85/bryansantoso85/blob/main/Capstone_Project_Edible_Wild_Plant.ipynb\" target=\"_parent\"><img src=\"https://colab.research.google.com/assets/colab-badge.svg\" alt=\"Open In Colab\"/></a>"
      ]
    },
    {
      "cell_type": "code",
      "execution_count": null,
      "metadata": {
        "id": "RrErKNaD0KMk",
        "colab": {
          "base_uri": "https://localhost:8080/"
        },
        "outputId": "d51daa55-a002-46ea-b67b-5049848f8fa0"
      },
      "outputs": [
        {
          "output_type": "stream",
          "name": "stdout",
          "text": [
            "Looking in indexes: https://pypi.org/simple, https://us-python.pkg.dev/colab-wheels/public/simple/\n",
            "Requirement already satisfied: kaggle in /usr/local/lib/python3.7/dist-packages (1.5.12)\n",
            "Requirement already satisfied: python-slugify in /usr/local/lib/python3.7/dist-packages (from kaggle) (6.1.2)\n",
            "Requirement already satisfied: requests in /usr/local/lib/python3.7/dist-packages (from kaggle) (2.23.0)\n",
            "Requirement already satisfied: tqdm in /usr/local/lib/python3.7/dist-packages (from kaggle) (4.64.0)\n",
            "Requirement already satisfied: certifi in /usr/local/lib/python3.7/dist-packages (from kaggle) (2022.5.18.1)\n",
            "Requirement already satisfied: six>=1.10 in /usr/local/lib/python3.7/dist-packages (from kaggle) (1.15.0)\n",
            "Requirement already satisfied: python-dateutil in /usr/local/lib/python3.7/dist-packages (from kaggle) (2.8.2)\n",
            "Requirement already satisfied: urllib3 in /usr/local/lib/python3.7/dist-packages (from kaggle) (1.24.3)\n",
            "Requirement already satisfied: text-unidecode>=1.3 in /usr/local/lib/python3.7/dist-packages (from python-slugify->kaggle) (1.3)\n",
            "Requirement already satisfied: chardet<4,>=3.0.2 in /usr/local/lib/python3.7/dist-packages (from requests->kaggle) (3.0.4)\n",
            "Requirement already satisfied: idna<3,>=2.5 in /usr/local/lib/python3.7/dist-packages (from requests->kaggle) (2.10)\n"
          ]
        }
      ],
      "source": [
        "! pip install kaggle\n"
      ]
    },
    {
      "cell_type": "code",
      "source": [
        "! mkdir ~/.kaggle"
      ],
      "metadata": {
        "id": "3XpgUvqt1jJs"
      },
      "execution_count": null,
      "outputs": []
    },
    {
      "cell_type": "code",
      "source": [
        "! cp kaggle.json ~/.kaggle/"
      ],
      "metadata": {
        "id": "-0MLQUt81ozT"
      },
      "execution_count": null,
      "outputs": []
    },
    {
      "cell_type": "code",
      "source": [
        "! chmod 600 ~/.kaggle/kaggle.json"
      ],
      "metadata": {
        "id": "a2VBPPrw1rxr"
      },
      "execution_count": null,
      "outputs": []
    },
    {
      "cell_type": "code",
      "source": [
        "! kaggle datasets download ryanpartridge01/wild-edible-plants"
      ],
      "metadata": {
        "colab": {
          "base_uri": "https://localhost:8080/"
        },
        "id": "8Iy_zav81xvf",
        "outputId": "789fbab9-3f8c-44ae-db6d-f8923be79b57"
      },
      "execution_count": null,
      "outputs": [
        {
          "output_type": "stream",
          "name": "stdout",
          "text": [
            "Downloading wild-edible-plants.zip to /content\n",
            "100% 1.70G/1.70G [00:16<00:00, 113MB/s] \n",
            "100% 1.70G/1.70G [00:16<00:00, 108MB/s]\n"
          ]
        }
      ]
    },
    {
      "cell_type": "code",
      "source": [
        "! unzip wild-edible-plants.zip"
      ],
      "metadata": {
        "colab": {
          "base_uri": "https://localhost:8080/"
        },
        "id": "zN7lu4cM2l3E",
        "outputId": "3c836a48-0c45-4450-ea45-64b481175423"
      },
      "execution_count": 11,
      "outputs": [
        {
          "output_type": "stream",
          "name": "stdout",
          "text": [
            "Archive:  wild-edible-plants.zip\n",
            "replace class_names.csv? [y]es, [n]o, [A]ll, [N]one, [r]ename: n\n",
            "replace dataset/resized/alfalfa/alfalfa0.jpg? [y]es, [n]o, [A]ll, [N]one, [r]ename: n\n",
            "replace dataset/resized/alfalfa/alfalfa1.jpg? [y]es, [n]o, [A]ll, [N]one, [r]ename: "
          ]
        }
      ]
    },
    {
      "cell_type": "code",
      "source": [
        "!ls \"dataset/resized\""
      ],
      "metadata": {
        "colab": {
          "base_uri": "https://localhost:8080/"
        },
        "id": "HBtXKsk732dU",
        "outputId": "8bcf1c30-bdef-4b24-b820-cf130811f4e6"
      },
      "execution_count": 14,
      "outputs": [
        {
          "output_type": "stream",
          "name": "stdout",
          "text": [
            "alfalfa    chicory\t    coneflower\t\tfennel\t\thenbit\n",
            "allium\t   chive_blossom    cow_parsley\t\tfireweed\tknapweed\n",
            "borage\t   coltsfoot\t    cowslip\t\tgardenia\tmeadowsweet\n",
            "burdock    common_mallow    crimson_clover\tgarlic_mustard\tmullein\n",
            "calendula  common_milkweed  crithmum_maritimum\tgeranium\tpickerelweed\n",
            "cattail    common_vetch     daisy\t\tground_ivy\tramsons\n",
            "chickweed  common_yarrow    dandelion\t\tharebell\tred_clover\n"
          ]
        }
      ]
    },
    {
      "cell_type": "code",
      "source": [
        "import pandas as pd\n",
        "import numpy as np\n",
        "import matplotlib.pyplot as plt\n",
        "import tensorflow as tf\n",
        "import zipfile\n",
        "import os\n",
        "import random\n",
        "import shutil\n",
        "from tensorflow.keras.preprocessing.image import ImageDataGenerator\n",
        "from shutil import copyfile\n",
        "import matplotlib.pyplot as plt"
      ],
      "metadata": {
        "id": "t4mIEAY04VAI"
      },
      "execution_count": 15,
      "outputs": []
    },
    {
      "cell_type": "code",
      "source": [
        "source_path = 'dataset/resized'\n",
        "\n",
        "# iterate over files in the source_file\n",
        "for filename in os.listdir(source_path):\n",
        "    each_file = os.path.join(source_path, filename)\n",
        "    print(f\"There are {len(os.listdir(each_file))} images of {filename}.\")"
      ],
      "metadata": {
        "colab": {
          "base_uri": "https://localhost:8080/"
        },
        "id": "ssaZLSij4MVe",
        "outputId": "4ba771bc-eb7e-4354-a601-11fb7598a88d"
      },
      "execution_count": 16,
      "outputs": [
        {
          "output_type": "stream",
          "name": "stdout",
          "text": [
            "There are 500 images of coltsfoot.\n",
            "There are 409 images of garlic_mustard.\n",
            "There are 400 images of crimson_clover.\n",
            "There are 460 images of burdock.\n",
            "There are 500 images of coneflower.\n",
            "There are 500 images of calendula.\n",
            "There are 500 images of dandelion.\n",
            "There are 433 images of crithmum_maritimum.\n",
            "There are 454 images of pickerelweed.\n",
            "There are 500 images of knapweed.\n",
            "There are 488 images of chickweed.\n",
            "There are 439 images of common_mallow.\n",
            "There are 441 images of cowslip.\n",
            "There are 500 images of geranium.\n",
            "There are 500 images of chicory.\n",
            "There are 452 images of fennel.\n",
            "There are 470 images of alfalfa.\n",
            "There are 408 images of ground_ivy.\n",
            "There are 481 images of allium.\n",
            "There are 466 images of cattail.\n",
            "There are 490 images of daisy.\n",
            "There are 500 images of mullein.\n",
            "There are 451 images of common_vetch.\n",
            "There are 489 images of ramsons.\n",
            "There are 454 images of chive_blossom.\n",
            "There are 455 images of meadowsweet.\n",
            "There are 499 images of fireweed.\n",
            "There are 500 images of henbit.\n",
            "There are 499 images of cow_parsley.\n",
            "There are 449 images of red_clover.\n",
            "There are 499 images of gardenia.\n",
            "There are 473 images of common_yarrow.\n",
            "There are 467 images of common_milkweed.\n",
            "There are 500 images of harebell.\n",
            "There are 500 images of borage.\n"
          ]
        }
      ]
    },
    {
      "cell_type": "code",
      "source": [
        "rootdir= 'dataset/resized' #path of the original folder\n",
        "classes = []\n",
        "\n",
        "#classes = ['coltsfoot', 'garlic_mustard', 'crimson_clover', .....]\n",
        "for filename in os.listdir(source_path):\n",
        "    classes.append(filename)\n",
        "\n",
        "for i in classes:\n",
        "  os.makedirs(rootdir +'/training/' + i)\n",
        "  os.makedirs(rootdir +'/testing/' + i)\n",
        "\n",
        "  source = rootdir + '/' + i\n",
        "  allFileNames = os.listdir(source)\n",
        "  np.random.shuffle(allFileNames)\n",
        "\n",
        "  test_ratio = 0.2\n",
        "\n",
        "  train_FileNames, test_FileNames = np.split(np.array(allFileNames),\n",
        "                                                      [int(len(allFileNames)* (1 - test_ratio))])\n",
        "\n",
        "  train_FileNames = [source+'/'+ name for name in train_FileNames.tolist()]\n",
        "  test_FileNames = [source+'/' + name for name in test_FileNames.tolist()]\n",
        "\n",
        "  for name in train_FileNames:\n",
        "    shutil.copy(name, rootdir +'/training/' + i)\n",
        "\n",
        "  for name in test_FileNames:\n",
        "    shutil.copy(name, rootdir +'/testing/' + i)"
      ],
      "metadata": {
        "id": "iegUVU2g4d4E"
      },
      "execution_count": 55,
      "outputs": []
    },
    {
      "cell_type": "code",
      "source": [
        "TRAINING_DIR = 'dataset/resized/training'\n",
        "TESTING_DIR = 'dataset/resized/testing'\n",
        "\n",
        "# iterate over files in the source_file\n",
        "for filename in os.listdir(TRAINING_DIR):\n",
        "    each_training_file = os.path.join(TRAINING_DIR, filename)\n",
        "    print(f\"There are {len(os.listdir(each_training_file))} images of {filename} for training.\")\n",
        "\n",
        "print(\"\\n\")\n",
        "\n",
        "for filename in os.listdir(TESTING_DIR):\n",
        "    each_testing_file = os.path.join(TESTING_DIR, filename)\n",
        "    print(f\"There are {len(os.listdir(each_testing_file))} images of {filename} for testing.\")"
      ],
      "metadata": {
        "colab": {
          "base_uri": "https://localhost:8080/"
        },
        "id": "v3ZJVDCZCSAA",
        "outputId": "707604ff-d313-4503-90e2-2453de1c84eb"
      },
      "execution_count": 56,
      "outputs": [
        {
          "output_type": "stream",
          "name": "stdout",
          "text": [
            "There are 400 images of coltsfoot for training.\n",
            "There are 327 images of garlic_mustard for training.\n",
            "There are 320 images of crimson_clover for training.\n",
            "There are 368 images of burdock for training.\n",
            "There are 400 images of coneflower for training.\n",
            "There are 400 images of calendula for training.\n",
            "There are 400 images of dandelion for training.\n",
            "There are 346 images of crithmum_maritimum for training.\n",
            "There are 363 images of pickerelweed for training.\n",
            "There are 400 images of knapweed for training.\n",
            "There are 390 images of chickweed for training.\n",
            "There are 351 images of common_mallow for training.\n",
            "There are 352 images of cowslip for training.\n",
            "There are 400 images of geranium for training.\n",
            "There are 400 images of chicory for training.\n",
            "There are 361 images of fennel for training.\n",
            "There are 376 images of alfalfa for training.\n",
            "There are 326 images of ground_ivy for training.\n",
            "There are 384 images of allium for training.\n",
            "There are 372 images of cattail for training.\n",
            "There are 392 images of daisy for training.\n",
            "There are 400 images of mullein for training.\n",
            "There are 360 images of common_vetch for training.\n",
            "There are 391 images of ramsons for training.\n",
            "There are 363 images of chive_blossom for training.\n",
            "There are 364 images of meadowsweet for training.\n",
            "There are 399 images of fireweed for training.\n",
            "There are 400 images of henbit for training.\n",
            "There are 399 images of cow_parsley for training.\n",
            "There are 359 images of red_clover for training.\n",
            "There are 399 images of gardenia for training.\n",
            "There are 378 images of common_yarrow for training.\n",
            "There are 373 images of common_milkweed for training.\n",
            "There are 400 images of harebell for training.\n",
            "There are 400 images of borage for training.\n",
            "\n",
            "\n",
            "There are 100 images of coltsfoot for testing.\n",
            "There are 82 images of garlic_mustard for testing.\n",
            "There are 80 images of crimson_clover for testing.\n",
            "There are 92 images of burdock for testing.\n",
            "There are 100 images of coneflower for testing.\n",
            "There are 100 images of calendula for testing.\n",
            "There are 100 images of dandelion for testing.\n",
            "There are 87 images of crithmum_maritimum for testing.\n",
            "There are 91 images of pickerelweed for testing.\n",
            "There are 100 images of knapweed for testing.\n",
            "There are 98 images of chickweed for testing.\n",
            "There are 88 images of common_mallow for testing.\n",
            "There are 89 images of cowslip for testing.\n",
            "There are 100 images of geranium for testing.\n",
            "There are 100 images of chicory for testing.\n",
            "There are 91 images of fennel for testing.\n",
            "There are 94 images of alfalfa for testing.\n",
            "There are 82 images of ground_ivy for testing.\n",
            "There are 97 images of allium for testing.\n",
            "There are 94 images of cattail for testing.\n",
            "There are 98 images of daisy for testing.\n",
            "There are 100 images of mullein for testing.\n",
            "There are 91 images of common_vetch for testing.\n",
            "There are 98 images of ramsons for testing.\n",
            "There are 91 images of chive_blossom for testing.\n",
            "There are 91 images of meadowsweet for testing.\n",
            "There are 100 images of fireweed for testing.\n",
            "There are 100 images of henbit for testing.\n",
            "There are 100 images of cow_parsley for testing.\n",
            "There are 90 images of red_clover for testing.\n",
            "There are 100 images of gardenia for testing.\n",
            "There are 95 images of common_yarrow for testing.\n",
            "There are 94 images of common_milkweed for testing.\n",
            "There are 100 images of harebell for testing.\n",
            "There are 100 images of borage for testing.\n"
          ]
        }
      ]
    }
  ]
}